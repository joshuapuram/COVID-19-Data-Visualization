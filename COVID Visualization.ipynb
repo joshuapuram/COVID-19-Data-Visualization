{
 "cells": [
  {
   "cell_type": "markdown",
   "id": "90934b22",
   "metadata": {},
   "source": [
    "### Import Libraries"
   ]
  },
  {
   "cell_type": "code",
   "execution_count": 1,
   "id": "88f79319",
   "metadata": {},
   "outputs": [
    {
     "data": {
      "text/html": [
       "        <script type=\"text/javascript\">\n",
       "        window.PlotlyConfig = {MathJaxConfig: 'local'};\n",
       "        if (window.MathJax) {MathJax.Hub.Config({SVG: {font: \"STIX-Web\"}});}\n",
       "        if (typeof require !== 'undefined') {\n",
       "        require.undef(\"plotly\");\n",
       "        requirejs.config({\n",
       "            paths: {\n",
       "                'plotly': ['https://cdn.plot.ly/plotly-2.9.0.min']\n",
       "            }\n",
       "        });\n",
       "        require(['plotly'], function(Plotly) {\n",
       "            window._Plotly = Plotly;\n",
       "        });\n",
       "        }\n",
       "        </script>\n",
       "        "
      ]
     },
     "metadata": {},
     "output_type": "display_data"
    }
   ],
   "source": [
    "import plotly.express as px\n",
    "import plotly.graph_objects as go\n",
    "import plotly.figure_factory as ff\n",
    "from plotly.subplots import make_subplots\n",
    "\n",
    "\n",
    "import folium\n",
    "import pandas as pd\n",
    "import numpy as np\n",
    "import matplotlib.pyplot as plt\n",
    "# import seaborn as sns\n",
    "\n",
    "%matplotlib inline\n",
    "\n",
    "import math\n",
    "import random\n",
    "from datetime import timedelta\n",
    "\n",
    "# color pallettes\n",
    "cnf = '#393e46'\n",
    "dth = '#ff2e63'\n",
    "rec = '#21bf73'\n",
    "act = '#fe9801'\n",
    "\n",
    "import warnings\n",
    "warnings.filterwarnings('ignore')\n",
    "\n",
    "import plotly as py\n",
    "py.offline.init_notebook_mode(connected =True)"
   ]
  },
  {
   "cell_type": "code",
   "execution_count": null,
   "id": "7247da31",
   "metadata": {},
   "outputs": [],
   "source": []
  },
  {
   "cell_type": "code",
   "execution_count": null,
   "id": "d78155a4",
   "metadata": {},
   "outputs": [],
   "source": []
  },
  {
   "cell_type": "markdown",
   "id": "48a4bfec",
   "metadata": {},
   "source": [
    "### Read Data"
   ]
  },
  {
   "cell_type": "code",
   "execution_count": 3,
   "id": "6a79ae4e",
   "metadata": {},
   "outputs": [],
   "source": [
    "df = pd.read_csv('D:/Data_Visualization/COVID Data/Covid-19-Preprocessed-Dataset-main/Covid-19-Preprocessed-Dataset-main/preprocessed/covid_19_data_cleaned.csv', parse_dates=['Date'])\n",
    "\n",
    "\n",
    "country_daywise = pd.read_csv('D:/Data_Visualization/COVID Data/Covid-19-Preprocessed-Dataset-main/Covid-19-Preprocessed-Dataset-main/preprocessed/country_daywise.csv', parse_dates=['Date'])\n",
    "\n",
    "\n",
    "countrywise = pd.read_csv('D:/Data_Visualization/COVID Data/Covid-19-Preprocessed-Dataset-main/Covid-19-Preprocessed-Dataset-main/preprocessed/countrywise.csv')\n",
    "\n",
    "\n",
    "daywise = pd.read_csv('D:/Data_Visualization/COVID Data/Covid-19-Preprocessed-Dataset-main/Covid-19-Preprocessed-Dataset-main/preprocessed/daywise.csv', parse_dates=['Date'])"
   ]
  },
  {
   "cell_type": "code",
   "execution_count": 4,
   "id": "e1b5b23c",
   "metadata": {},
   "outputs": [
    {
     "data": {
      "text/html": [
       "<div>\n",
       "<style scoped>\n",
       "    .dataframe tbody tr th:only-of-type {\n",
       "        vertical-align: middle;\n",
       "    }\n",
       "\n",
       "    .dataframe tbody tr th {\n",
       "        vertical-align: top;\n",
       "    }\n",
       "\n",
       "    .dataframe thead th {\n",
       "        text-align: right;\n",
       "    }\n",
       "</style>\n",
       "<table border=\"1\" class=\"dataframe\">\n",
       "  <thead>\n",
       "    <tr style=\"text-align: right;\">\n",
       "      <th></th>\n",
       "      <th>Date</th>\n",
       "      <th>Province/State</th>\n",
       "      <th>Country</th>\n",
       "      <th>Lat</th>\n",
       "      <th>Long</th>\n",
       "      <th>Confirmed</th>\n",
       "      <th>Recovered</th>\n",
       "      <th>Deaths</th>\n",
       "      <th>Active</th>\n",
       "    </tr>\n",
       "  </thead>\n",
       "  <tbody>\n",
       "    <tr>\n",
       "      <th>0</th>\n",
       "      <td>2020-01-22</td>\n",
       "      <td>NaN</td>\n",
       "      <td>Afghanistan</td>\n",
       "      <td>33.93911</td>\n",
       "      <td>67.709953</td>\n",
       "      <td>0</td>\n",
       "      <td>0</td>\n",
       "      <td>0</td>\n",
       "      <td>0</td>\n",
       "    </tr>\n",
       "    <tr>\n",
       "      <th>1</th>\n",
       "      <td>2020-01-23</td>\n",
       "      <td>NaN</td>\n",
       "      <td>Afghanistan</td>\n",
       "      <td>33.93911</td>\n",
       "      <td>67.709953</td>\n",
       "      <td>0</td>\n",
       "      <td>0</td>\n",
       "      <td>0</td>\n",
       "      <td>0</td>\n",
       "    </tr>\n",
       "    <tr>\n",
       "      <th>2</th>\n",
       "      <td>2020-01-24</td>\n",
       "      <td>NaN</td>\n",
       "      <td>Afghanistan</td>\n",
       "      <td>33.93911</td>\n",
       "      <td>67.709953</td>\n",
       "      <td>0</td>\n",
       "      <td>0</td>\n",
       "      <td>0</td>\n",
       "      <td>0</td>\n",
       "    </tr>\n",
       "    <tr>\n",
       "      <th>3</th>\n",
       "      <td>2020-01-25</td>\n",
       "      <td>NaN</td>\n",
       "      <td>Afghanistan</td>\n",
       "      <td>33.93911</td>\n",
       "      <td>67.709953</td>\n",
       "      <td>0</td>\n",
       "      <td>0</td>\n",
       "      <td>0</td>\n",
       "      <td>0</td>\n",
       "    </tr>\n",
       "    <tr>\n",
       "      <th>4</th>\n",
       "      <td>2020-01-26</td>\n",
       "      <td>NaN</td>\n",
       "      <td>Afghanistan</td>\n",
       "      <td>33.93911</td>\n",
       "      <td>67.709953</td>\n",
       "      <td>0</td>\n",
       "      <td>0</td>\n",
       "      <td>0</td>\n",
       "      <td>0</td>\n",
       "    </tr>\n",
       "  </tbody>\n",
       "</table>\n",
       "</div>"
      ],
      "text/plain": [
       "        Date Province/State      Country       Lat       Long  Confirmed  \\\n",
       "0 2020-01-22            NaN  Afghanistan  33.93911  67.709953          0   \n",
       "1 2020-01-23            NaN  Afghanistan  33.93911  67.709953          0   \n",
       "2 2020-01-24            NaN  Afghanistan  33.93911  67.709953          0   \n",
       "3 2020-01-25            NaN  Afghanistan  33.93911  67.709953          0   \n",
       "4 2020-01-26            NaN  Afghanistan  33.93911  67.709953          0   \n",
       "\n",
       "   Recovered  Deaths  Active  \n",
       "0          0       0       0  \n",
       "1          0       0       0  \n",
       "2          0       0       0  \n",
       "3          0       0       0  \n",
       "4          0       0       0  "
      ]
     },
     "execution_count": 4,
     "metadata": {},
     "output_type": "execute_result"
    }
   ],
   "source": [
    "df.head()"
   ]
  },
  {
   "cell_type": "code",
   "execution_count": null,
   "id": "7f61b023",
   "metadata": {
    "scrolled": true
   },
   "outputs": [],
   "source": [
    "df['Province/State'] = df['Province/State'].fillna(\"\")\n",
    "df.head()"
   ]
  },
  {
   "cell_type": "code",
   "execution_count": null,
   "id": "6e41f2e3",
   "metadata": {},
   "outputs": [],
   "source": [
    "df.isnull().sum()"
   ]
  },
  {
   "cell_type": "code",
   "execution_count": null,
   "id": "9be43e4b",
   "metadata": {},
   "outputs": [],
   "source": [
    "df.info()"
   ]
  },
  {
   "cell_type": "code",
   "execution_count": null,
   "id": "7dbd930f",
   "metadata": {},
   "outputs": [],
   "source": [
    "confirmed = df[:560].groupby(\"Date\").sum()[\"Confirmed\"].reset_index()\n",
    "recovered = df[:560].groupby(\"Date\").sum()[\"Recovered\"].reset_index()\n",
    "deaths = df[:560].groupby(\"Date\").sum()[\"Deaths\"].reset_index()"
   ]
  },
  {
   "cell_type": "code",
   "execution_count": null,
   "id": "2e7bb761",
   "metadata": {},
   "outputs": [],
   "source": [
    "# recovered[500:560]"
   ]
  },
  {
   "cell_type": "code",
   "execution_count": null,
   "id": "1c192b13",
   "metadata": {
    "scrolled": true
   },
   "outputs": [],
   "source": [
    "df[:560].query('Country == \"US\"')"
   ]
  },
  {
   "cell_type": "code",
   "execution_count": null,
   "id": "3df231a3",
   "metadata": {},
   "outputs": [],
   "source": [
    "fig = go.Figure()\n",
    "fig.add_trace(go.Scatter(x = confirmed['Date'], y = confirmed['Confirmed'], mode = 'lines+markers', name = 'Confirmed', line = dict(color = 'orange', width = 0.25)))\n",
    "fig.add_trace(go.Scatter(x = confirmed['Date'], y = recovered['Recovered'], mode = 'lines+markers', name = 'Recovered', line = dict(color = 'green', width = 0.25)))\n",
    "fig.add_trace(go.Scatter(x = confirmed['Date'], y = deaths['Deaths'], mode = 'lines+markers', name = 'Deaths', line = dict(color = 'red', width = 0.25)))\n",
    "fig.update_layout(title = 'Worldwide Covid-19 Cases', xaxis_tickfont_size = 14, yaxis = dict(title = 'Number of Cases'))\n",
    "\n",
    "fig.show()"
   ]
  },
  {
   "cell_type": "markdown",
   "id": "99997e87",
   "metadata": {},
   "source": [
    "### Cases Density on World Map"
   ]
  },
  {
   "cell_type": "code",
   "execution_count": null,
   "id": "61038b71",
   "metadata": {},
   "outputs": [],
   "source": [
    "df['Date'] = df['Date'].astype(str)\n",
    "df.info()"
   ]
  },
  {
   "cell_type": "code",
   "execution_count": null,
   "id": "efb7e6e9",
   "metadata": {},
   "outputs": [],
   "source": [
    "df.head()"
   ]
  },
  {
   "cell_type": "code",
   "execution_count": null,
   "id": "871a991d",
   "metadata": {},
   "outputs": [],
   "source": [
    "fig = px.density_mapbox(df, lat = 'Lat', lon ='Long', hover_name = 'Country', hover_data = ['Confirmed','Recovered','Deaths'], animation_frame = 'Date', color_continuous_scale = 'Portland', radius = 7, zoom = 0, height = 700)\n",
    "fig.update_layout(title = 'Worldwide COVID-19 Cases with Time Lapse')\n",
    "fig.update_layout(mapbox_style = 'open-street-map', mapbox_center_lon = 0)\n",
    "\n",
    "fig.show()"
   ]
  },
  {
   "cell_type": "code",
   "execution_count": null,
   "id": "95e2c9a9",
   "metadata": {},
   "outputs": [],
   "source": []
  },
  {
   "cell_type": "code",
   "execution_count": null,
   "id": "723d894c",
   "metadata": {},
   "outputs": [],
   "source": [
    "country_daywise.head()"
   ]
  },
  {
   "cell_type": "code",
   "execution_count": null,
   "id": "85abf9d3",
   "metadata": {},
   "outputs": [],
   "source": [
    "countrywise.head()"
   ]
  },
  {
   "cell_type": "code",
   "execution_count": null,
   "id": "298bddf4",
   "metadata": {},
   "outputs": [],
   "source": [
    "daywise.head()"
   ]
  },
  {
   "cell_type": "code",
   "execution_count": null,
   "id": "3f58a883",
   "metadata": {},
   "outputs": [],
   "source": []
  },
  {
   "cell_type": "code",
   "execution_count": null,
   "id": "17945032",
   "metadata": {},
   "outputs": [],
   "source": []
  },
  {
   "cell_type": "code",
   "execution_count": null,
   "id": "2556d524",
   "metadata": {},
   "outputs": [],
   "source": []
  },
  {
   "cell_type": "markdown",
   "id": "8e056183",
   "metadata": {},
   "source": [
    "### COVID on Ships : Grand Princess, Diamond Princess and MS Zaandam"
   ]
  },
  {
   "cell_type": "code",
   "execution_count": null,
   "id": "8f301c18",
   "metadata": {},
   "outputs": [],
   "source": [
    "ship_rows = df['Province/State'].str.contains('Grand Princess') | df['Province/State'].str.contains('Diamond Princess') | df['Country'].str.contains('Grand Princess') | df['Country'].str.contains('Diamond Princess') | df['Province/State'].str.contains('MS Zaandam') | df['Country'].str.contains('MS Zaandam')\n",
    "ship = df[ship_rows]"
   ]
  },
  {
   "cell_type": "code",
   "execution_count": null,
   "id": "6586fa16",
   "metadata": {},
   "outputs": [],
   "source": [
    "df = df[~ship_rows]"
   ]
  },
  {
   "cell_type": "code",
   "execution_count": null,
   "id": "9f0d6c60",
   "metadata": {},
   "outputs": [],
   "source": [
    "ship_latest = ship[ship['Date'] == max(ship['Date'])]\n",
    "ship_latest"
   ]
  },
  {
   "cell_type": "code",
   "execution_count": null,
   "id": "a078874f",
   "metadata": {},
   "outputs": [],
   "source": [
    "ship_latest.style.background_gradient(cmap = 'Pastel1_r')"
   ]
  },
  {
   "cell_type": "markdown",
   "id": "b7aa60bf",
   "metadata": {},
   "source": [
    "### Cases over Time with treemap"
   ]
  },
  {
   "cell_type": "code",
   "execution_count": null,
   "id": "0596f0c3",
   "metadata": {
    "scrolled": true
   },
   "outputs": [],
   "source": [
    "temp = df[:560].groupby('Date')['Confirmed','Deaths', 'Recovered', 'Active'].sum().reset_index()\n",
    "temp = temp[temp['Date']==max(temp['Date'])].reset_index(drop = True)\n",
    "\n",
    "tm = temp.melt(id_vars = 'Date', value_vars = ['Active', 'Recovered', 'Deaths'])\n",
    "fig = px.treemap(tm, path = ['variable'], values ='value', height = 300, width = 1000, color_discrete_sequence = [act,rec,dth])\n",
    "\n",
    "fig.data[0].textinfo = 'label+text+value'\n",
    "fig.show()"
   ]
  },
  {
   "cell_type": "markdown",
   "id": "8f42b3cf",
   "metadata": {},
   "source": [
    "### Cases over time with Area Plot"
   ]
  },
  {
   "cell_type": "code",
   "execution_count": null,
   "id": "ab07e698",
   "metadata": {},
   "outputs": [],
   "source": [
    "temp = df[:560].groupby('Date')['Active','Recovered','Deaths'].sum().reset_index()\n",
    "temp = temp.melt(id_vars = 'Date', value_vars=['Active', 'Recovered', 'Deaths'], var_name = 'Case', value_name = 'Count')\n",
    "# temp\n",
    "\n",
    "fig = px.area(temp, x = 'Date', y = 'Count', color = 'Case', height = 600, title = 'Cases Over Time', color_discrete_sequence = [act,rec,dth])\n",
    "fig.update_layout(xaxis_rangeslider_visible = True)\n",
    "fig.show()"
   ]
  },
  {
   "cell_type": "markdown",
   "id": "36d60a2b",
   "metadata": {},
   "source": [
    "### Folium Maps"
   ]
  },
  {
   "cell_type": "code",
   "execution_count": null,
   "id": "9b513ca8",
   "metadata": {},
   "outputs": [],
   "source": [
    "# World-wise cases on Folium Maps"
   ]
  },
  {
   "cell_type": "code",
   "execution_count": null,
   "id": "1570bbfb",
   "metadata": {},
   "outputs": [],
   "source": [
    "temp = df[df['Date'] == '2021-08-03']\n",
    "# temp\n",
    "\n",
    "m = folium.Map(location = [0,0], tiles = 'cartodbpositron', min_zoom = 1, max_zoom = 4, zoom_start = 1)\n",
    "\n",
    "for i in range(0,len(temp)):\n",
    "    folium.Circle(location = [temp.iloc[i]['Lat'],temp.iloc[i]['Long']], color = 'crimson', fill = 'crimson',\n",
    "                 tooltip = '<li><bold> Country: '+str(temp.iloc[i]['Country'])+\n",
    "                 '<li><bold> Province: '+str(temp.iloc[i]['Province/State'])+\n",
    "                '<li><bold> Confirmed: '+str(temp.iloc[i]['Confirmed'])+\n",
    "                '<li><bold> Deaths: '+str(temp.iloc[i]['Deaths']), radius = int(temp.iloc[i]['Confirmed'])**0.5).add_to(m)\n",
    "    \n",
    "    \n",
    "m"
   ]
  },
  {
   "cell_type": "code",
   "execution_count": null,
   "id": "7d86294d",
   "metadata": {},
   "outputs": [],
   "source": []
  },
  {
   "cell_type": "markdown",
   "id": "2bc0fd6c",
   "metadata": {},
   "source": [
    "### Confirmed Cases with Choropleth Map"
   ]
  },
  {
   "cell_type": "code",
   "execution_count": null,
   "id": "d70831ef",
   "metadata": {},
   "outputs": [],
   "source": [
    "fig = px.choropleth(country_daywise, locations = 'Country', locationmode = 'country names', color = np.log(country_daywise['Confirmed']), \n",
    "                   hover_name = 'Country', animation_frame = country_daywise['Date'].dt.strftime('%Y-%m-%d'), \n",
    "                   title = 'Cases over time', color_continuous_scale = px.colors.sequential.Inferno)\n",
    "fig.update(layout_coloraxis_showscale = True)\n",
    "fig.show()"
   ]
  },
  {
   "cell_type": "code",
   "execution_count": null,
   "id": "df26f660",
   "metadata": {},
   "outputs": [],
   "source": [
    "fig = px.choropleth(country_daywise, locations = 'Country', locationmode = 'country names', color = country_daywise['Confirmed'], \n",
    "                   hover_name = 'Country', animation_frame = country_daywise['Date'].dt.strftime('%Y-%m-%d'), \n",
    "                   title = 'Cases over time', color_continuous_scale = px.colors.sequential.Inferno)\n",
    "fig.update(layout_coloraxis_showscale = True)\n",
    "fig.show()"
   ]
  },
  {
   "cell_type": "code",
   "execution_count": null,
   "id": "ac704432",
   "metadata": {},
   "outputs": [],
   "source": []
  },
  {
   "cell_type": "markdown",
   "id": "11c0ba66",
   "metadata": {},
   "source": [
    "### Confirmed and Death Cases with Static Colormap"
   ]
  },
  {
   "cell_type": "code",
   "execution_count": null,
   "id": "88793feb",
   "metadata": {},
   "outputs": [],
   "source": [
    "fig_c = px.choropleth(countrywise, locations = 'Country', locationmode = 'country names', color = np.log(countrywise['Confirmed']), hover_name = 'Country', hover_data = ['Confirmed'])\n",
    "\n",
    "temp = countrywise[countrywise['Deaths']>0]\n",
    "fig_d = px.choropleth(temp, locations = 'Country', locationmode = 'country names', color = np.log(temp['Deaths']), hover_name = 'Country', hover_data = ['Deaths'])\n",
    "\n",
    "fig = make_subplots(rows = 1, cols = 2, subplot_titles = ['Confirmed', 'Deaths'], specs = [[{'type':'choropleth'},{'type':'choropleth'}]])\n",
    "\n",
    "fig.add_trace(fig_c['data'][0], row = 1, col = 1)\n",
    "fig.add_trace(fig_d['data'][0], row = 1, col = 2)\n",
    "\n",
    "# If you want to remove color bar\n",
    "# fig.update(layout_coloraxis_showscale = False)\n",
    "\n",
    "fig.show()"
   ]
  },
  {
   "cell_type": "code",
   "execution_count": null,
   "id": "e44a5a04",
   "metadata": {},
   "outputs": [],
   "source": []
  },
  {
   "cell_type": "markdown",
   "id": "b203e110",
   "metadata": {},
   "source": [
    "### Deaths and Recoveries per 100 Cases"
   ]
  },
  {
   "cell_type": "code",
   "execution_count": null,
   "id": "61550779",
   "metadata": {},
   "outputs": [],
   "source": [
    "daywise[:560].tail()"
   ]
  },
  {
   "cell_type": "code",
   "execution_count": null,
   "id": "b3d2ca67",
   "metadata": {},
   "outputs": [],
   "source": [
    "fig_c = px.bar(daywise, x = 'Date', y = 'Confirmed', color_discrete_sequence = [act])\n",
    "fig_d = px.bar(daywise, x = 'Date', y = 'Deaths', color_discrete_sequence = [dth])\n",
    "\n",
    "fig = make_subplots(rows = 1, cols = 2, shared_xaxes = False, horizontal_spacing = 0.1,\n",
    "                   subplot_titles = ('Confirmed Cases','Death Cases'))\n",
    "\n",
    "fig.add_trace(fig_c['data'][0], row = 1, col = 1)\n",
    "fig.add_trace(fig_d['data'][0], row = 1, col = 2)\n",
    "\n",
    "fig.update_layout(height = 450)\n",
    "fig.show()"
   ]
  },
  {
   "cell_type": "code",
   "execution_count": null,
   "id": "9f59a5b3",
   "metadata": {},
   "outputs": [],
   "source": [
    "daywise.columns"
   ]
  },
  {
   "cell_type": "code",
   "execution_count": null,
   "id": "d27d4baa",
   "metadata": {
    "scrolled": true
   },
   "outputs": [],
   "source": [
    "fig1 = px.line(daywise, x = 'Date', y = 'Deaths / 100 Cases', color_discrete_sequence = [dth])\n",
    "fig2 = px.line(daywise, x = 'Date', y = 'Recovered / 100 Cases', color_discrete_sequence = [rec])\n",
    "fig3 = px.line(daywise, x = 'Date', y = 'Deaths / 100 Recovered', color_discrete_sequence = ['#8634eb'])\n",
    "\n",
    "fig = make_subplots(rows = 1, cols = 3, shared_xaxes = False, horizontal_spacing = 0.1,\n",
    "                   subplot_titles = ('Deaths / 100 Cases','Recovered / 100 Cases','Deaths / 100 Recovered'))\n",
    "\n",
    "fig.add_trace(fig1['data'][0], row = 1, col = 1)\n",
    "fig.add_trace(fig2['data'][0], row = 1, col = 2)\n",
    "fig.add_trace(fig3['data'][0], row = 1, col = 3)\n",
    "\n",
    "fig.update_layout(height= 400)\n",
    "fig.show()"
   ]
  },
  {
   "cell_type": "code",
   "execution_count": null,
   "id": "1f70dfbb",
   "metadata": {},
   "outputs": [],
   "source": []
  },
  {
   "cell_type": "markdown",
   "id": "4db58721",
   "metadata": {},
   "source": [
    "### New Cases and No. of Countries "
   ]
  },
  {
   "cell_type": "code",
   "execution_count": null,
   "id": "68fdb6ac",
   "metadata": {},
   "outputs": [],
   "source": [
    "fig_c = px.bar(daywise, x = 'Date', y = 'Confirmed', color_discrete_sequence = [act])\n",
    "fig_d = px.bar(daywise, x = 'Date', y = 'No. of Countries', color_discrete_sequence = [dth])\n",
    "\n",
    "fig = make_subplots(rows =1, cols = 2, shared_xaxes = False, horizontal_spacing = 0.1, subplot_titles = (\"No. of New Cases per Day\", \"No. of Countries\"))\n",
    "\n",
    "fig.add_trace(fig_c['data'][0], row = 1, col = 1)\n",
    "fig.add_trace(fig_d['data'][0], row = 1, col = 2)\n",
    "\n",
    "fig.show()"
   ]
  },
  {
   "cell_type": "code",
   "execution_count": null,
   "id": "b81b500e",
   "metadata": {},
   "outputs": [],
   "source": []
  },
  {
   "cell_type": "markdown",
   "id": "e2652f93",
   "metadata": {},
   "source": [
    "### Top 15 Countries Case Analysis"
   ]
  },
  {
   "cell_type": "code",
   "execution_count": null,
   "id": "04b28cc2",
   "metadata": {},
   "outputs": [],
   "source": [
    "countrywise.columns"
   ]
  },
  {
   "cell_type": "code",
   "execution_count": null,
   "id": "e1eb325b",
   "metadata": {},
   "outputs": [],
   "source": []
  },
  {
   "cell_type": "code",
   "execution_count": null,
   "id": "04cd4759",
   "metadata": {},
   "outputs": [],
   "source": []
  },
  {
   "cell_type": "code",
   "execution_count": null,
   "id": "4795c410",
   "metadata": {},
   "outputs": [],
   "source": [
    "top = 15\n",
    "\n",
    "fig_c = px.bar(countrywise.sort_values('Confirmed').tail(top), x = 'Confirmed', y = 'Country', text = 'Confirmed', orientation = 'h', color_discrete_sequence = [act])\n",
    "\n",
    "fig_d = px.bar(countrywise.sort_values('Deaths').tail(top), x = 'Deaths', y = 'Country', text = 'Deaths', orientation = 'h', color_discrete_sequence = [dth])\n",
    "\n",
    "\n",
    "fig = make_subplots(rows = 5, cols =2, shared_xaxes = False, horizontal_spacing = 0.15, vertical_spacing = 0.1, subplot_titles = ('Confirmed Cases', 'Deaths Reported'))\n",
    "\n",
    "fig.add_trace(fig_c['data'][0], col = 1, row =1)\n",
    "fig.add_trace(fig_c['data'][0], col = 2, row =1)\n",
    "\n",
    "fig.update_layout(height = 2500)\n",
    "fig.show()\n",
    "\n"
   ]
  },
  {
   "cell_type": "code",
   "execution_count": null,
   "id": "a09a5b0d",
   "metadata": {},
   "outputs": [],
   "source": [
    "countrywise.columns"
   ]
  },
  {
   "cell_type": "code",
   "execution_count": null,
   "id": "46c9f632",
   "metadata": {
    "scrolled": true
   },
   "outputs": [],
   "source": [
    "top = 15\n",
    "\n",
    "fig_c = px.bar(countrywise.sort_values('Confirmed').tail(top), x = 'Confirmed', y = 'Country', text = 'Confirmed', orientation = 'h', color_discrete_sequence = [cnf])\n",
    "\n",
    "fig_d = px.bar(countrywise.sort_values('Deaths').tail(top), x = 'Deaths', y = 'Country', text = 'Deaths', orientation = 'h', color_discrete_sequence = [dth])\n",
    "\n",
    "fig_e = px.bar(countrywise.sort_values('Active').tail(top), x = 'Active', y = 'Country', text = 'Active', orientation = 'h', color_discrete_sequence = [act])\n",
    "\n",
    "fig_f = px.bar(countrywise.sort_values('New Cases').tail(top), x = 'New Cases', y = 'Country', text = 'New Cases', orientation = 'h', color_discrete_sequence = ['#3333cc'])\n",
    "\n",
    "fig_g = px.bar(countrywise.sort_values('1 week change').tail(top), x = '1 week change', y = 'Country', text = '1 week change', orientation = 'h', color_discrete_sequence = ['#ffff00'])\n",
    "\n",
    "fig_h = px.bar(countrywise.sort_values('1 week % increase').tail(top), x = '1 week % increase', y = 'Country', text = '1 week % increase', orientation = 'h', color_discrete_sequence = ['#529042'])\n",
    "\n",
    "fig_i = px.bar(countrywise.sort_values('Cases / Million People').tail(top), x = 'Cases / Million People', y = 'Country', text = 'Cases / Million People', orientation = 'h', color_discrete_sequence = ['#99ccff'])\n",
    "\n",
    "fig_j = px.bar(countrywise.sort_values('Confirmed last week').tail(top), x = 'Confirmed last week', y = 'Country', text = 'Confirmed last week', orientation = 'h', color_discrete_sequence = ['#993399'])\n",
    "\n",
    "\n",
    "fig = make_subplots(rows = 4, cols =2, shared_xaxes = False, horizontal_spacing = 0.15, vertical_spacing = 0.1, subplot_titles = ('Confirmed Cases', 'Deaths Reported','Active Cases', 'New Cases', '1 week change','1 week % increase','Cases / Million People', 'Confirmed last week'))\n",
    "\n",
    "fig.add_trace(fig_c['data'][0], col = 1, row =1)\n",
    "fig.add_trace(fig_d['data'][0], col = 2, row =1)\n",
    "fig.add_trace(fig_e['data'][0], col = 1, row =2)\n",
    "fig.add_trace(fig_f['data'][0], col = 2, row =2)\n",
    "fig.add_trace(fig_g['data'][0], col = 1, row =3)\n",
    "fig.add_trace(fig_h['data'][0], col = 2, row =3)\n",
    "fig.add_trace(fig_i['data'][0], col = 1, row =4)\n",
    "fig.add_trace(fig_j['data'][0], col = 2, row =4)\n",
    "\n",
    "fig.update_layout(height = 1600)\n",
    "fig.show()\n"
   ]
  },
  {
   "cell_type": "code",
   "execution_count": null,
   "id": "5c562a99",
   "metadata": {},
   "outputs": [],
   "source": []
  },
  {
   "cell_type": "code",
   "execution_count": null,
   "id": "81061f4e",
   "metadata": {},
   "outputs": [],
   "source": []
  },
  {
   "cell_type": "code",
   "execution_count": null,
   "id": "81353a68",
   "metadata": {},
   "outputs": [],
   "source": []
  },
  {
   "cell_type": "code",
   "execution_count": null,
   "id": "11b79052",
   "metadata": {},
   "outputs": [],
   "source": []
  },
  {
   "cell_type": "code",
   "execution_count": null,
   "id": "ffe326e1",
   "metadata": {},
   "outputs": [],
   "source": []
  }
 ],
 "metadata": {
  "kernelspec": {
   "display_name": "Python 3",
   "language": "python",
   "name": "python3"
  },
  "language_info": {
   "codemirror_mode": {
    "name": "ipython",
    "version": 3
   },
   "file_extension": ".py",
   "mimetype": "text/x-python",
   "name": "python",
   "nbconvert_exporter": "python",
   "pygments_lexer": "ipython3",
   "version": "3.6.13"
  }
 },
 "nbformat": 4,
 "nbformat_minor": 5
}
